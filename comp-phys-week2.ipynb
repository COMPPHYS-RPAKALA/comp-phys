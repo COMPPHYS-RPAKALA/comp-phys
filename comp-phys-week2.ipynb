{
 "cells": [
  {
   "cell_type": "code",
   "execution_count": 7,
   "metadata": {
    "collapsed": false
   },
   "outputs": [
    {
     "name": "stdout",
     "output_type": "stream",
     "text": [
      "With the for loop, the sum is 1.64393456668\n",
      "With the while loop, the sum is 1.64393456668\n",
      "correct answer: 1.64493406685\n"
     ]
    }
   ],
   "source": [
    "from math import pi\n",
    "s = 0\n",
    "max = 1000\n",
    "\n",
    "for i in range(max):\n",
    "    s += 1./(i+1)**2\n",
    "    \n",
    "print 'With the for loop, the sum is', s\n",
    "\n",
    "i = 1\n",
    "s = 0\n",
    "\n",
    "while i <= max:\n",
    "    s+= 1./i**2\n",
    "    i = 1+i\n",
    "    \n",
    "print 'With the while loop, the sum is', s\n",
    "\n",
    "print 'correct answer:', pi**2/6"
   ]
  },
  {
   "cell_type": "code",
   "execution_count": 8,
   "metadata": {
    "collapsed": false
   },
   "outputs": [
    {
     "name": "stdout",
     "output_type": "stream",
     "text": [
      "hello world\n"
     ]
    }
   ],
   "source": [
    "a = 'hello'\n",
    "space = ' '\n",
    "b = 'world'\n",
    "print a + space + b"
   ]
  },
  {
   "cell_type": "code",
   "execution_count": 13,
   "metadata": {
    "collapsed": false
   },
   "outputs": [
    {
     "name": "stdout",
     "output_type": "stream",
     "text": [
      "True\n",
      "  -20  -4.0\n",
      "True\n",
      "  -15   5.0\n",
      "True\n",
      "   -5  23.0\n",
      "True\n",
      "    5  41.0\n",
      "True\n",
      "   10  50.0\n",
      "True\n",
      "   15  59.0\n",
      "True\n",
      "   20  68.0\n"
     ]
    }
   ],
   "source": [
    "Cdegrees = [-20, -15, -5, 5, 10, 15, 20]\n",
    "for C in Cdegrees:\n",
    "    print C in Cdegrees\n",
    "    F = (9.0/5)*C + 32.\n",
    "    print '%5d %5.1f' % (C, F)"
   ]
  },
  {
   "cell_type": "code",
   "execution_count": 16,
   "metadata": {
    "collapsed": false
   },
   "outputs": [
    {
     "name": "stdout",
     "output_type": "stream",
     "text": [
      "True\n",
      "  -20  -4.0\n",
      "True\n",
      "  -15   5.0\n",
      "True\n",
      "   -5  23.0\n",
      "True\n",
      "    5  41.0\n",
      "True\n",
      "   10  50.0\n",
      "True\n",
      "   15  59.0\n",
      "True\n",
      "   20  68.0\n"
     ]
    }
   ],
   "source": [
    "Cdegrees = [-20, -15, -5, 5, 10, 15, 20]\n",
    "i = 0\n",
    "while i<len(Cdegrees):\n",
    "    C = Cdegrees[i]\n",
    "    print C in Cdegrees\n",
    "    F = (9.0/5)*C + 32.\n",
    "    print '%5d %5.1f' % (C, F)\n",
    "    i+=1"
   ]
  },
  {
   "cell_type": "code",
   "execution_count": 21,
   "metadata": {
    "collapsed": false
   },
   "outputs": [
    {
     "name": "stdout",
     "output_type": "stream",
     "text": [
      "True\n",
      "False\n",
      "True\n"
     ]
    }
   ],
   "source": [
    "a = [10, 5]\n",
    "r = a[:]\n",
    "s = a\n",
    "print r == a\n",
    "print r is a\n",
    "print s is a"
   ]
  },
  {
   "cell_type": "code",
   "execution_count": 22,
   "metadata": {
    "collapsed": false
   },
   "outputs": [
    {
     "name": "stdout",
     "output_type": "stream",
     "text": [
      "a: [10, 5, 140000.0]\n",
      "r: [10, 5]\n",
      "s: [10, 5, 140000.0]\n",
      "c:"
     ]
    },
    {
     "ename": "NameError",
     "evalue": "name 'c' is not defined",
     "output_type": "error",
     "traceback": [
      "\u001b[0;31m---------------------------------------------------------------------------\u001b[0m",
      "\u001b[0;31mNameError\u001b[0m                                 Traceback (most recent call last)",
      "\u001b[0;32m<ipython-input-22-d86d02e6e032>\u001b[0m in \u001b[0;36m<module>\u001b[0;34m()\u001b[0m\n\u001b[1;32m      3\u001b[0m \u001b[0;32mprint\u001b[0m \u001b[0;34m'r:'\u001b[0m\u001b[0;34m,\u001b[0m \u001b[0mr\u001b[0m\u001b[0;34m\u001b[0m\u001b[0m\n\u001b[1;32m      4\u001b[0m \u001b[0;32mprint\u001b[0m \u001b[0;34m's:'\u001b[0m\u001b[0;34m,\u001b[0m \u001b[0ms\u001b[0m\u001b[0;34m\u001b[0m\u001b[0m\n\u001b[0;32m----> 5\u001b[0;31m \u001b[0;32mprint\u001b[0m \u001b[0;34m'c:'\u001b[0m\u001b[0;34m,\u001b[0m \u001b[0mc\u001b[0m\u001b[0;34m\u001b[0m\u001b[0m\n\u001b[0m",
      "\u001b[0;31mNameError\u001b[0m: name 'c' is not defined"
     ]
    }
   ],
   "source": [
    "a.append(1.4e5)\n",
    "print 'a:', a\n",
    "print 'r:', r\n",
    "print 's:', s\n",
    "print 'c:', c"
   ]
  },
  {
   "cell_type": "code",
   "execution_count": 23,
   "metadata": {
    "collapsed": false
   },
   "outputs": [
    {
     "name": "stdout",
     "output_type": "stream",
     "text": [
      " [10, 5, 140000.0]\n"
     ]
    }
   ],
   "source": [
    "import copy\n",
    "c = copy.copy(a)\n",
    "print c\n"
   ]
  },
  {
   "cell_type": "code",
   "execution_count": null,
   "metadata": {
    "collapsed": true
   },
   "outputs": [],
   "source": []
  }
 ],
 "metadata": {
  "kernelspec": {
   "display_name": "Python 2",
   "language": "python",
   "name": "python2"
  },
  "language_info": {
   "codemirror_mode": {
    "name": "ipython",
    "version": 2
   },
   "file_extension": ".py",
   "mimetype": "text/x-python",
   "name": "python",
   "nbconvert_exporter": "python",
   "pygments_lexer": "ipython2",
   "version": "2.7.9"
  }
 },
 "nbformat": 4,
 "nbformat_minor": 0
}
