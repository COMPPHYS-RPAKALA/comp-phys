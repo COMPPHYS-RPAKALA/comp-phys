{
 "cells": [
  {
   "cell_type": "code",
   "execution_count": 6,
   "metadata": {
    "collapsed": false
   },
   "outputs": [
    {
     "name": "stdout",
     "output_type": "stream",
     "text": [
      "3\n",
      "0.333333333333\n",
      "3\n"
     ]
    }
   ],
   "source": [
    "a = 3\n",
    "print a\n",
    "def f():\n",
    "    b = 3\n",
    "    #global a\n",
    "    d = 1./a\n",
    "    print d\n",
    "    return\n",
    "f()\n",
    "print a"
   ]
  },
  {
   "cell_type": "code",
   "execution_count": 18,
   "metadata": {
    "collapsed": false
   },
   "outputs": [
    {
     "name": "stdout",
     "output_type": "stream",
     "text": [
      "509.5\n",
      "-48050.0\n",
      "\n",
      "    Positional arguments\n",
      "    \n"
     ]
    }
   ],
   "source": [
    "def yfunc(t, v0):\n",
    "    \"\"\"\n",
    "    Positional arguments\n",
    "    \"\"\"\n",
    "    g = 9.81\n",
    "    return v0*t - 0.5*g*t**2\n",
    "    \"\"\"\n",
    "    hi\n",
    "    \"\"\"\n",
    "print yfunc(10, 100)\n",
    "print yfunc(100, 10)\n",
    "print yfunc.__doc__"
   ]
  },
  {
   "cell_type": "code",
   "execution_count": 33,
   "metadata": {
    "collapsed": false
   },
   "outputs": [
    {
     "name": "stdout",
     "output_type": "stream",
     "text": [
      "[0, 2, 4, 6, 8, 10, 12, 14, 16, 18, 20, 22, 24, 26, 28, 30, 32, 34, 36, 38, 40, 42, 44, 46, 48, 50, 52, 54, 56, 58, 60, 62, 64, 66, 68, 70, 72, 74, 76, 78, 80, 82, 84, 86, 88, 90, 92, 94, 96, 98, 100]\n"
     ]
    }
   ],
   "source": [
    "def makelist(start, stop, inc):\n",
    "    value = start\n",
    "    result = []\n",
    "    while value <= stop:\n",
    "        result.append(value)\n",
    "        value += inc\n",
    "    return result\n",
    "\n",
    "mylist = makelist(0, 100, 2)\n",
    "print mylist"
   ]
  },
  {
   "cell_type": "code",
   "execution_count": 34,
   "metadata": {
    "collapsed": false
   },
   "outputs": [
    {
     "name": "stdout",
     "output_type": "stream",
     "text": [
      "1000000 loops, best of 3: 1.76 µs per loop\n"
     ]
    }
   ],
   "source": [
    "%%timeit y = makelist(0, 100, 2)\n",
    "max(y)"
   ]
  },
  {
   "cell_type": "code",
   "execution_count": 39,
   "metadata": {
    "collapsed": false
   },
   "outputs": [
    {
     "name": "stdout",
     "output_type": "stream",
     "text": [
      "position =       0.38 velocity =       -9.6\n",
      "position =      +0.38 velocity =       -9.6\n"
     ]
    }
   ],
   "source": [
    "def yfunc2(t, v0):\n",
    "    \"\"\"\n",
    "    Positional arguments\n",
    "    \"\"\"\n",
    "    g = 9.81\n",
    "    y = v0*t - 0.5*g*t**2\n",
    "    yprime = v0 - g*t\n",
    "    return y, yprime\n",
    "pos, vel = yfunc2(2, 10)\n",
    "\n",
    "print 'position = {:10.2g} velocity = {:10.2g}'.format(pos, vel)\n",
    "print 'position = {:+10.2g} velocity = {:+10.2g}'.format(pos, vel)"
   ]
  },
  {
   "cell_type": "code",
   "execution_count": 43,
   "metadata": {
    "collapsed": false
   },
   "outputs": [
    {
     "name": "stdout",
     "output_type": "stream",
     "text": [
      "[3, 4, 5]\n",
      "[3, 4, 5]\n"
     ]
    }
   ],
   "source": [
    "print range (3, 6)\n",
    "range_params = [3, 6]\n",
    "print range(*range_params) #the asterisk unpacks the tuple into multiple integers that can be read"
   ]
  },
  {
   "cell_type": "markdown",
   "metadata": {},
   "source": [
    "Esp. useful commands in pdb\n",
    "- n(ext)\n",
    "- s(tep)\n",
    "- p(rint)\n",
    "- unt(il)\n",
    "...\n"
   ]
  },
  {
   "cell_type": "code",
   "execution_count": 78,
   "metadata": {
    "collapsed": false
   },
   "outputs": [
    {
     "name": "stdout",
     "output_type": "stream",
     "text": [
      "Taylor Series Approximation: 1.09861228867\n",
      "exact_val 1.09861228867\n",
      "log1p output 1.09861228867\n"
     ]
    }
   ],
   "source": [
    "import pdb\n",
    "\n",
    "\n",
    "def L(x, n):\n",
    "    approx = 0\n",
    "    #pdb.set_trace()\n",
    "    for i in range(0, n+1, 1):\n",
    "        approx += (1/(i+1.))*(x/(1.+x))**(i+1.)\n",
    "    return approx\n",
    "\n",
    "\n",
    "\n",
    "x = 2\n",
    "\n",
    "y = L(x, 100)\n",
    "print 'Taylor Series Approximation:', y\n",
    "from math import log  #you would guess math module would have log...yes!\n",
    "exact_val = log(1+x)\n",
    "print 'exact_val', exact_val\n",
    "from math import log1p  #more accurate for small x.\n",
    "print 'log1p output', log1p(x)"
   ]
  },
  {
   "cell_type": "code",
   "execution_count": null,
   "metadata": {
    "collapsed": true
   },
   "outputs": [],
   "source": []
  },
  {
   "cell_type": "code",
   "execution_count": null,
   "metadata": {
    "collapsed": true
   },
   "outputs": [],
   "source": []
  }
 ],
 "metadata": {
  "kernelspec": {
   "display_name": "Python 2",
   "language": "python",
   "name": "python2"
  },
  "language_info": {
   "codemirror_mode": {
    "name": "ipython",
    "version": 2
   },
   "file_extension": ".py",
   "mimetype": "text/x-python",
   "name": "python",
   "nbconvert_exporter": "python",
   "pygments_lexer": "ipython2",
   "version": "2.7.9"
  }
 },
 "nbformat": 4,
 "nbformat_minor": 0
}
