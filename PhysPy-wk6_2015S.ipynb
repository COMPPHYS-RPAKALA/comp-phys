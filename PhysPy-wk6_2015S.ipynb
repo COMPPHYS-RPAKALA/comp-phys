{
 "cells": [
  {
   "cell_type": "markdown",
   "metadata": {},
   "source": [
    "# Topics (related to the midterm project):\n",
    "\n",
    "## 1. Regular Expression (regex, or sometimes RE)\n",
    "## 2. return vs. yield\n",
    "## 3. random.sample, numpy.random, and histogram plots "
   ]
  },
  {
   "cell_type": "markdown",
   "metadata": {},
   "source": [
    "## Regular expression\n",
    "\n",
    "\n",
    "###\"The limits of my language mean the limits of my world.\"  \n",
    "\n",
    "###\\- Ludwig Wittgenstein\n",
    "\n",
    "\n",
    "Resources:\n",
    "\n",
    "* *Effective Computation in Physics * Chapter 8\n",
    "\n",
    "* https://docs.python.org/2/library/re.html"
   ]
  },
  {
   "cell_type": "raw",
   "metadata": {},
   "source": [
    "Expression   Matches\n",
    "\n",
    "uvwxyz       uvwxyz\n",
    "\n",
    "'.'          any character except a newline. \n",
    "'*'          0 or more repetitions of the preceding RE \n",
    "             (e.g. ab* will match ‘a’, ‘ab’, or ‘a’ followed by any number of ‘b')\n",
    "             \n",
    ".*           Zero or more of any character, such as supercalifragilisticexpialidocious or 42\n",
    "'?'          0 or 1 repetitions of the preceding RE. ab? will match either ‘a’ or ‘ab’.\n",
    "\n",
    "\n",
    "[A-Z]        any character between A and Z\n",
    "[a-z]        any character between a and z\n",
    "[0-9]        any digit        \n",
    "[^]          not, e.g. [^0-9] means not a digit\n",
    "\\s           any white space characters (usually single space or tab)\n",
    "\\d           any digits (equivalent to [0-9])\n",
    "\n",
    "[u-z]        One of either u, v, q, x, y, or z"
   ]
  },
  {
   "cell_type": "markdown",
   "metadata": {},
   "source": [
    "### re.match(pattern, string, flags=0)\n",
    "\n",
    "\n",
    "###pattern:\tThis is the regular expression to be matched.\n",
    "\n",
    "###string:\tThis is the string, which would be searched to match the pattern at the beginning of string.\n",
    "\n",
    "###flags:\tYou can specify different flags, e.g., to do case insensitive search, use flags = re.I (for all flags: https://docs.python.org/2/howto/regex.html)\n",
    "\n",
    "\n",
    "### The match() function returns a match object on success, None on failure.  \n",
    "\n",
    "### Use group(num) or groups() function of match object to get matched expression.\n",
    "\n",
    "\n",
    "###*Note: match() checks for a match only at the beginning of the string*"
   ]
  },
  {
   "cell_type": "code",
   "execution_count": 1,
   "metadata": {
    "collapsed": false
   },
   "outputs": [
    {
     "name": "stdout",
     "output_type": "stream",
     "text": [
      "<_sre.SRE_Match object at 0x101c82e68>\n",
      "2015-12-16\n"
     ]
    }
   ],
   "source": [
    "# A match!\n",
    "import re\n",
    "m = re.match(\"20[01][0-9].*[0-9][0-9].*[0-9][0-9]\", '2015-12-16')\n",
    "print m\n",
    "print m.group()"
   ]
  },
  {
   "cell_type": "code",
   "execution_count": 2,
   "metadata": {
    "collapsed": false
   },
   "outputs": [
    {
     "name": "stdout",
     "output_type": "stream",
     "text": [
      "<_sre.SRE_Match object at 0x101c82f38>\n",
      "2015-12-16\n"
     ]
    }
   ],
   "source": [
    "# A match!  [0-9] --> \\d\n",
    "import re\n",
    "m = re.match(\"20[01][0-9].*[0-9][0-9].*[0-9]\\d\", '2015-12-16')\n",
    "print m\n",
    "print m.group()"
   ]
  },
  {
   "cell_type": "code",
   "execution_count": 3,
   "metadata": {
    "collapsed": false
   },
   "outputs": [
    {
     "name": "stdout",
     "output_type": "stream",
     "text": [
      "None\n"
     ]
    }
   ],
   "source": [
    "# No match\n",
    "import re\n",
    "m = re.match(\"20[01][0-9].*[0-9][ 0-9].*[0-9][0-9]\", '20')\n",
    "print m"
   ]
  },
  {
   "cell_type": "code",
   "execution_count": 4,
   "metadata": {
    "collapsed": false
   },
   "outputs": [
    {
     "name": "stdout",
     "output_type": "stream",
     "text": [
      "2015a12b16\n"
     ]
    }
   ],
   "source": [
    "# match or not?  '2015-12-16' --> '2015a12b16'\n",
    "import re\n",
    "m = re.match(\"20[01][0-9].*[ 0-9][ 0-9].*[0-9][0-9]\", '2015a12b16')\n",
    "if m:\n",
    "    print m.group()"
   ]
  },
  {
   "cell_type": "code",
   "execution_count": 5,
   "metadata": {
    "collapsed": false
   },
   "outputs": [
    {
     "name": "stdout",
     "output_type": "stream",
     "text": [
      "no match\n"
     ]
    }
   ],
   "source": [
    "# match or not?  second '.*' --> [^a-z]\n",
    "import re\n",
    "m = re.match(\"20[ 01][ 0-9].*[0-9][0-9][^a-z][0-9][0-9]\", '2015a12b16')\n",
    "if m:\n",
    "    print m.group()\n",
    "else:\n",
    "    print 'no match'"
   ]
  },
  {
   "cell_type": "code",
   "execution_count": 6,
   "metadata": {
    "collapsed": false
   },
   "outputs": [
    {
     "name": "stdout",
     "output_type": "stream",
     "text": [
      "2015a12b16\n"
     ]
    }
   ],
   "source": [
    "# match or not?  [^a-z] --> [^a]\n",
    "import re\n",
    "m = re.match(\"20[ 01][ 0-9].*[0-9][0-9][^a][0-9][0-9]\", '2015a12b16')\n",
    "if m:\n",
    "    print m.group()\n",
    "else:\n",
    "    print 'no match'"
   ]
  },
  {
   "cell_type": "code",
   "execution_count": 7,
   "metadata": {
    "collapsed": false
   },
   "outputs": [
    {
     "name": "stdout",
     "output_type": "stream",
     "text": [
      "2019adlkfj are1216\n"
     ]
    }
   ],
   "source": [
    "# match or not?\n",
    "import re\n",
    "m = re.match(\"20[01][0-9].*[0-9][0-9].*[0-9][0-9]\", '2019adlkfj are1216')\n",
    "if m:\n",
    "    print m.group()\n",
    "else:\n",
    "    print 'no match'"
   ]
  },
  {
   "cell_type": "code",
   "execution_count": 16,
   "metadata": {
    "collapsed": false
   },
   "outputs": [
    {
     "name": "stdout",
     "output_type": "stream",
     "text": [
      "no match\n"
     ]
    }
   ],
   "source": [
    "# match or not?\n",
    "import re\n",
    "m = re.match(\" 20[01][0-9].*[0-9][0-9].*[0-9][0-9]\", '2015^12&16')\n",
    "if m:\n",
    "    print m.group()\n",
    "else:\n",
    "    print 'no match'"
   ]
  },
  {
   "cell_type": "code",
   "execution_count": 9,
   "metadata": {
    "collapsed": false,
    "scrolled": false
   },
   "outputs": [
    {
     "name": "stdout",
     "output_type": "stream",
     "text": [
      "no match\n"
     ]
    }
   ],
   "source": [
    "# match or not?\n",
    "import re\n",
    "m = re.match(\"20[01][0-9].*[0-9][0-9].*[0-9][0-9]\", 'Something very intereting \\\n",
    "will happen on 2015-12-16.  You just wait and see.')\n",
    "if m:\n",
    "    print m.group()\n",
    "else:\n",
    "    print 'no match'"
   ]
  },
  {
   "cell_type": "code",
   "execution_count": 19,
   "metadata": {
    "collapsed": false,
    "scrolled": true
   },
   "outputs": [
    {
     "name": "stdout",
     "output_type": "stream",
     "text": [
      "Something very intereting will happen on 2015-12-16\n"
     ]
    }
   ],
   "source": [
    "# match or not?\n",
    "import re\n",
    "m = re.match(\".*20[01][0-9].*[0-9][0-9].*[0-9][0-9]\", 'Something very intereting \\\n",
    "will happen on 2015-12-16.  You just wait and see.')\n",
    "if m:\n",
    "    print m.group()\n",
    "else:\n",
    "    print 'no match'"
   ]
  },
  {
   "cell_type": "code",
   "execution_count": 11,
   "metadata": {
    "collapsed": false
   },
   "outputs": [
    {
     "name": "stdout",
     "output_type": "stream",
     "text": [
      "None\n"
     ]
    }
   ],
   "source": [
    "# Match or not?\n",
    "import re\n",
    "m = re.match(\".*20[01][0-9]-[0-9][0-9]-[0-9][0-9]\", 'Something very intereting \\\n",
    "will happen on 2015.12.16.  You just wait and see.')\n",
    "print m"
   ]
  },
  {
   "cell_type": "markdown",
   "metadata": {},
   "source": [
    "## re.search()\n",
    "\n",
    "### If you want to locate a match anywhere in string, use search()"
   ]
  },
  {
   "cell_type": "code",
   "execution_count": 12,
   "metadata": {
    "collapsed": false
   },
   "outputs": [
    {
     "name": "stdout",
     "output_type": "stream",
     "text": [
      "<_sre.SRE_Match object at 0x1026f6370>\n",
      "2015-12-16\n"
     ]
    }
   ],
   "source": [
    "import re\n",
    "m = re.search(\"20[01][0-9]-[0-9][0-9]-[0-9][0-9]\", 'Something very intereting \\\n",
    "will happen on 2015-12-16.  You just wait and see.')\n",
    "print m\n",
    "print m.group()"
   ]
  },
  {
   "cell_type": "code",
   "execution_count": 60,
   "metadata": {
    "collapsed": false
   },
   "outputs": [
    {
     "name": "stdout",
     "output_type": "stream",
     "text": [
      "2015-12-16\n",
      "2015-12-16\n",
      "year: 2015\n",
      "month: 12\n",
      "date: 16\n"
     ]
    }
   ],
   "source": [
    "# the .group() method, and note: the second occurrence was ignored.\n",
    "import re\n",
    "m = re.search(\"(20[01][0-9])-([0-9][0-9])-([0-9][0-9])\", 'Something very intereting \\\n",
    "will happen on 2015-12-16.  You just wait and see, only after 2015-12-16.')\n",
    "print m.group()\n",
    "print m.group(0)\n",
    "print 'year:', m.group(1)\n",
    "print 'month:', m.group(2)\n",
    "print 'date:', m.group(3)"
   ]
  },
  {
   "cell_type": "markdown",
   "metadata": {},
   "source": [
    "## re.findall()\n",
    "\n",
    "### To find all occurences , and reurn the results as a list"
   ]
  },
  {
   "cell_type": "code",
   "execution_count": 254,
   "metadata": {
    "collapsed": false
   },
   "outputs": [
    {
     "name": "stdout",
     "output_type": "stream",
     "text": [
      "['2015-12-16', '2015-12-18'] <type 'list'>\n"
     ]
    }
   ],
   "source": [
    "# Match!\n",
    "import re\n",
    "m = re.findall(\"20[01][0-9]-[0-9][0-9]-[0-9][0-9]\", 'Something very intereting \\\n",
    "will happen on 2015-12-16.  You just wait and see, only after 2015-12-18.')\n",
    "print m, type(m)"
   ]
  },
  {
   "cell_type": "markdown",
   "metadata": {},
   "source": [
    "## Breakout Problem:\n",
    "\n",
    "### The following text is copied from wikipedia,\n",
    "\n",
    "### \"The current men's world record is 9.58 seconds, set by Jamaica's Usain Bolt in 2009,\"\n",
    "\n",
    "### By using re.match(), extract the world record time.  You cannot use any actual words in your pattern, e.g. \"seconds\" would not be allowed.\n",
    "\n"
   ]
  },
  {
   "cell_type": "code",
   "execution_count": null,
   "metadata": {
    "collapsed": true
   },
   "outputs": [],
   "source": []
  },
  {
   "cell_type": "markdown",
   "metadata": {},
   "source": [
    "## return vs. yield"
   ]
  },
  {
   "cell_type": "code",
   "execution_count": null,
   "metadata": {
    "collapsed": false
   },
   "outputs": [],
   "source": [
    "# A peculiar thing about enumerate(): you can't use len() with enumerate()!\n",
    "from collections import Iterable\n",
    "y = range(10)\n",
    "print len(y)\n",
    "print isinstance(y, Iterable)\n",
    "z = enumerate(range(10))\n",
    "print isinstance(z, Iterable)\n",
    "#print len(z)                     # will get error.\n",
    "print z.next()\n",
    "print z.next()\n",
    "#print z[3]                      # will also get error."
   ]
  },
  {
   "cell_type": "markdown",
   "metadata": {},
   "source": [
    "## eunmerate() *is* an iterable; but not all iterables have a length!"
   ]
  },
  {
   "cell_type": "code",
   "execution_count": 255,
   "metadata": {
    "collapsed": false
   },
   "outputs": [
    {
     "name": "stdout",
     "output_type": "stream",
     "text": [
      "[0, 1, 2, 3, 4, 5]\n"
     ]
    }
   ],
   "source": [
    "# return:\n",
    "def create_integers(N):\n",
    "    lst=[]\n",
    "    for i in range(N):\n",
    "        lst.append(i)\n",
    "    return lst\n",
    "newints = create_integers(6)    \n",
    "print newints \n"
   ]
  },
  {
   "cell_type": "code",
   "execution_count": 294,
   "metadata": {
    "collapsed": false
   },
   "outputs": [
    {
     "name": "stdout",
     "output_type": "stream",
     "text": [
      "<type 'function'> <type 'list'>\n"
     ]
    }
   ],
   "source": [
    "print type(create_integers), type(newints)\n"
   ]
  },
  {
   "cell_type": "code",
   "execution_count": 344,
   "metadata": {
    "collapsed": false
   },
   "outputs": [
    {
     "name": "stdout",
     "output_type": "stream",
     "text": [
      "<type 'function'> <type 'generator'>\n"
     ]
    }
   ],
   "source": [
    "# yield:\n",
    "from pdb import set_trace\n",
    "def generate_integers(N):\n",
    "    for i in range(N):\n",
    "        # note: it's inside the for loop!\n",
    "        yield i\n",
    "        set_trace()\n",
    "        print 'The {:d}th time generate_integers() is called'.format(i+1)\n",
    "gen = generate_integers(6)\n",
    "print type(generate_integers), type(gen)\n"
   ]
  },
  {
   "cell_type": "code",
   "execution_count": 297,
   "metadata": {
    "collapsed": false
   },
   "outputs": [
    {
     "name": "stdout",
     "output_type": "stream",
     "text": [
      "> <ipython-input-295-71d4b62eec2e>(8)generate_integers()\n",
      "-> print 'The {:d}th time generate_integers() is called'.format(i+1)\n",
      "(Pdb) p i\n",
      "0\n",
      "(Pdb) n\n",
      "The 1th time generate_integers() is called\n",
      "> <ipython-input-295-71d4b62eec2e>(4)generate_integers()\n",
      "-> for i in range(N):\n",
      "(Pdb) n\n",
      "> <ipython-input-295-71d4b62eec2e>(6)generate_integers()\n",
      "-> yield i\n",
      "(Pdb) c\n"
     ]
    },
    {
     "data": {
      "text/plain": [
       "1"
      ]
     },
     "execution_count": 297,
     "metadata": {},
     "output_type": "execute_result"
    }
   ],
   "source": [
    "# It shows you that the next generate_integers() is called, \n",
    "# python starts from the statement immediately below the yield statement.\n",
    "gen.next()"
   ]
  },
  {
   "cell_type": "code",
   "execution_count": null,
   "metadata": {
    "collapsed": false
   },
   "outputs": [],
   "source": [
    "for i in range(6):\n",
    "    print gen.next()\n"
   ]
  },
  {
   "cell_type": "code",
   "execution_count": null,
   "metadata": {
    "collapsed": false
   },
   "outputs": [],
   "source": [
    "# You will get error if the previous cell has been run.\n",
    "for i in range(6):\n",
    "    print gen.next()"
   ]
  },
  {
   "cell_type": "markdown",
   "metadata": {},
   "source": [
    "##Breakout Problem: Write a function that generates all Fibonacci numbers less than 300 by using yield.  \n",
    "\n",
    "Definition: F\\_n = F\\_{n-1} + F\\_{n-2}; F\\_0 = 0 and F\\_1 = 1.  \n",
    "\n",
    "Hint: Once you have calculated F\\_3, you have no need for F\\_0 and F\\_1; \n",
    "once you know F\\_4, you have no need for F\\_3 and F\\_2; and so forth.\n",
    "So for every new round, you only need to keep the previous two numbers.\n",
    "\n",
    "Computing by hand:\n",
    "F\\_0 = 0\n",
    "F\\_1 = 1\n",
    "F\\_2 = 1\n",
    "F\\_3 = 2\n",
    "...\n"
   ]
  },
  {
   "cell_type": "code",
   "execution_count": 384,
   "metadata": {
    "collapsed": false
   },
   "outputs": [],
   "source": [
    "def fib():\n",
    "    a = 0\n",
    "    b = 1\n",
    "    while true:\n",
    "        yield a\n",
    "        a, b=b, a+b"
   ]
  },
  {
   "cell_type": "code",
   "execution_count": 386,
   "metadata": {
    "collapsed": false
   },
   "outputs": [
    {
     "ename": "NameError",
     "evalue": "global name 'true' is not defined",
     "output_type": "error",
     "traceback": [
      "\u001b[0;31m---------------------------------------------------------------------------\u001b[0m",
      "\u001b[0;31mNameError\u001b[0m                                 Traceback (most recent call last)",
      "\u001b[0;32m<ipython-input-386-c84e17ca9f50>\u001b[0m in \u001b[0;36m<module>\u001b[0;34m()\u001b[0m\n\u001b[1;32m      1\u001b[0m \u001b[0mind\u001b[0m \u001b[0;34m=\u001b[0m \u001b[0;36m0\u001b[0m\u001b[0;34m\u001b[0m\u001b[0m\n\u001b[0;32m----> 2\u001b[0;31m \u001b[0;32mfor\u001b[0m \u001b[0mi\u001b[0m \u001b[0;32min\u001b[0m \u001b[0mfib\u001b[0m\u001b[0;34m(\u001b[0m\u001b[0;34m)\u001b[0m\u001b[0;34m:\u001b[0m\u001b[0;34m\u001b[0m\u001b[0m\n\u001b[0m\u001b[1;32m      3\u001b[0m     \u001b[0;31m#print 'ind = ', ind\u001b[0m\u001b[0;34m\u001b[0m\u001b[0;34m\u001b[0m\u001b[0m\n\u001b[1;32m      4\u001b[0m     \u001b[0mind\u001b[0m \u001b[0;34m+=\u001b[0m \u001b[0;36m1\u001b[0m\u001b[0;34m\u001b[0m\u001b[0m\n\u001b[1;32m      5\u001b[0m     \u001b[0;32mif\u001b[0m \u001b[0mi\u001b[0m \u001b[0;34m>\u001b[0m \u001b[0;36m300\u001b[0m\u001b[0;34m:\u001b[0m\u001b[0;34m\u001b[0m\u001b[0m\n",
      "\u001b[0;32m<ipython-input-384-498fe58d5bad>\u001b[0m in \u001b[0;36mfib\u001b[0;34m()\u001b[0m\n\u001b[1;32m      2\u001b[0m     \u001b[0ma\u001b[0m \u001b[0;34m=\u001b[0m \u001b[0;36m0\u001b[0m\u001b[0;34m\u001b[0m\u001b[0m\n\u001b[1;32m      3\u001b[0m     \u001b[0mb\u001b[0m \u001b[0;34m=\u001b[0m \u001b[0;36m1\u001b[0m\u001b[0;34m\u001b[0m\u001b[0m\n\u001b[0;32m----> 4\u001b[0;31m     \u001b[0;32mwhile\u001b[0m \u001b[0mtrue\u001b[0m\u001b[0;34m:\u001b[0m\u001b[0;34m\u001b[0m\u001b[0m\n\u001b[0m\u001b[1;32m      5\u001b[0m         \u001b[0;32myield\u001b[0m \u001b[0ma\u001b[0m\u001b[0;34m\u001b[0m\u001b[0m\n\u001b[1;32m      6\u001b[0m         \u001b[0ma\u001b[0m\u001b[0;34m,\u001b[0m \u001b[0mb\u001b[0m\u001b[0;34m=\u001b[0m\u001b[0mb\u001b[0m\u001b[0;34m,\u001b[0m \u001b[0ma\u001b[0m\u001b[0;34m+\u001b[0m\u001b[0mb\u001b[0m\u001b[0;34m\u001b[0m\u001b[0m\n",
      "\u001b[0;31mNameError\u001b[0m: global name 'true' is not defined"
     ]
    }
   ],
   "source": [
    "ind = 0\n",
    "for i in fib():\n",
    "    #print 'ind = ', ind\n",
    "    ind += 1\n",
    "    if i > 300:\n",
    "        break\n",
    "    else:\n",
    "        print i\n",
    "        \n",
    "# Let's work out the flow of the code.\n",
    "# This is an elegant, memory efficient way of generating Fibonacci numbers \n",
    "# (note: at any time only the latest two Fibonacci numbers take up memory, \n",
    "# as is necessary for the calculation of the next Fib number.   \n",
    "# All previous Fib numbers are \"forgotten\"!)\n",
    "# This is very different from the \"list\" way of doing things, where every element \n",
    "# takes up memory.\n"
   ]
  },
  {
   "cell_type": "markdown",
   "metadata": {},
   "source": [
    "## The random module\n",
    "\n",
    "from http://docs.python.org/2/library/random.html:"
   ]
  },
  {
   "cell_type": "code",
   "execution_count": null,
   "metadata": {
    "collapsed": false
   },
   "outputs": [],
   "source": [
    "import random\n",
    "lst = ['a', 'b', 'c', 'd', 'x', 'y', 'z']\n",
    "random.shuffle(lst)   ### this shuffles the list in place.  \n",
    "print lst   ### you can run this as many times as you want."
   ]
  },
  {
   "cell_type": "markdown",
   "metadata": {},
   "source": [
    "##random.sample(population, k)\n",
    "\n",
    "Return a k length list of unique elements chosen from the population sequence. \n",
    "\n",
    "Returns a new list containing elements from the population while leaving the original population unchanged. \n"
   ]
  },
  {
   "cell_type": "code",
   "execution_count": null,
   "metadata": {
    "collapsed": false
   },
   "outputs": [],
   "source": [
    "# Example of random.sample:\n",
    "from random import sample\n",
    "print sample(xrange(10000000), 10)\n",
    "# Note the difference between xrange() and range(): xrange() doesn't create an entire list, \n",
    "# but creates the values when asked for them.\n",
    "# So it's much better to use xrange() here owing to the large argument."
   ]
  },
  {
   "cell_type": "code",
   "execution_count": null,
   "metadata": {
    "collapsed": false
   },
   "outputs": [],
   "source": [
    "### Another example: \n",
    "from string import ascii_lowercase\n",
    "print type(ascii_lowercase), len(ascii_lowercase)\n",
    "# So yes, you can only import modules, functions but also strings and other objects.\n",
    "# In Python: almost everything is an object (modules, functions, strings, ints, floats,\n",
    "# dictionaries, lists, classes, etc.)\n",
    "# and therefore, there is no fundamental difference between them in terms of how they\n",
    "# are treated and used in Python.\n",
    "print ascii_lowercase\n",
    "print sample(ascii_lowercase, 10)"
   ]
  },
  {
   "cell_type": "markdown",
   "metadata": {},
   "source": [
    "## ASCII stands for: American Standard Code for Information Interchange"
   ]
  },
  {
   "cell_type": "markdown",
   "metadata": {},
   "source": [
    "## numpyr.random\n",
    "\n",
    "http://docs.scipy.org/doc/numpy/reference/routines.random.html\n",
    "\n",
    "Gaussian distribution -- mu is the mean, and sigma is the standard deviation. "
   ]
  },
  {
   "cell_type": "code",
   "execution_count": 380,
   "metadata": {
    "collapsed": false
   },
   "outputs": [
    {
     "name": "stdout",
     "output_type": "stream",
     "text": [
      "-1.73812136265\n"
     ]
    }
   ],
   "source": [
    "from numpy.random import randn\n",
    "x = randn()\n",
    "print x"
   ]
  },
  {
   "cell_type": "code",
   "execution_count": 381,
   "metadata": {
    "collapsed": false
   },
   "outputs": [
    {
     "name": "stdout",
     "output_type": "stream",
     "text": [
      "[-1.21505909  2.49739719  1.78612461  5.19602348 -0.7168496   3.74372064\n",
      "  3.72208879  2.2150823   2.44720756  0.21603294]\n",
      "1.9891768807\n",
      "1.94060204542\n"
     ]
    }
   ],
   "source": [
    "import numpy as np\n",
    "from numpy.random import randn\n",
    "x = randn(10)*2. + 3.\n",
    "print x\n",
    "print np.mean(x)\n",
    "print np.std(x)"
   ]
  },
  {
   "cell_type": "code",
   "execution_count": 382,
   "metadata": {
    "collapsed": false
   },
   "outputs": [
    {
     "name": "stdout",
     "output_type": "stream",
     "text": [
      "n (normalized height, or probability density): [  1.36757183e-04   1.36757183e-04   1.82342910e-04   1.82342910e-04\n",
      "   5.47028731e-04   5.92614459e-04   1.04847173e-03   1.73225765e-03\n",
      "   2.32487211e-03   3.19100093e-03   3.87478685e-03   5.69821595e-03\n",
      "   6.15407323e-03   9.02597407e-03   1.06214745e-02   1.38124755e-02\n",
      "   1.59094189e-02   1.74137479e-02   1.96474486e-02   2.22002493e-02\n",
      "   2.19723207e-02   2.47074644e-02   2.55735932e-02   2.79896368e-02\n",
      "   2.60294505e-02   2.45251215e-02   2.37957498e-02   2.39780927e-02\n",
      "   2.13341205e-02   1.90092484e-02   1.69123049e-02   1.41771613e-02\n",
      "   1.18067035e-02   9.61858852e-03   7.97750233e-03   6.06290177e-03\n",
      "   4.55857276e-03   3.23658666e-03   2.96307229e-03   1.50432901e-03\n",
      "   1.04847173e-03   8.20543097e-04   8.66128825e-04   3.64685821e-04\n",
      "   0.00000000e+00   1.82342910e-04   1.82342910e-04   4.55857276e-05\n",
      "   1.36757183e-04   4.55857276e-05] 50\n",
      "bins (locations of bin edges): [  48.18932369   50.38299274   52.5766618    54.77033085   56.96399991\n",
      "   59.15766896   61.35133802   63.54500707   65.73867613   67.93234518\n",
      "   70.12601424   72.31968329   74.51335235   76.7070214    78.90069046\n",
      "   81.09435951   83.28802857   85.48169762   87.67536668   89.86903573\n",
      "   92.06270479   94.25637384   96.4500429    98.64371195  100.83738101\n",
      "  103.03105006  105.22471912  107.41838817  109.61205723  111.80572628\n",
      "  113.99939534  116.19306439  118.38673345  120.5804025   122.77407156\n",
      "  124.96774061  127.16140967  129.35507872  131.54874778  133.74241683\n",
      "  135.93608589  138.12975494  140.323424    142.51709305  144.71076211\n",
      "  146.90443116  149.09810022  151.29176927  153.48543833  155.67910738\n",
      "  157.87277644] 51\n"
     ]
    },
    {
     "data": {
      "image/png": "[encoded data removed]",
      "text/plain": [
       "<matplotlib.figure.Figure at 0x10b465dd0>"
      ]
     },
     "metadata": {},
     "output_type": "display_data"
    }
   ],
   "source": [
    "%matplotlib inline\n",
    "import numpy as np\n",
    "import matplotlib.pyplot as plt\n",
    "\n",
    "\n",
    "x = np.random.randn(10000)*15 + 100\n",
    "fig = plt.figure()\n",
    "ax = fig.add_subplot(111)\n",
    "\n",
    "# the histogram of the data\n",
    "\n",
    "Nbins = 50\n",
    "# normed=1: the total area adds up to 1; # alpha: level of tranparency.\n",
    "n, bins, patches = ax.hist(x, Nbins, normed=1, facecolor='green', alpha=.5)\n",
    "print 'n (normalized height, or probability density):', n, len(n)\n",
    "print 'bins (locations of bin edges):', bins, len(bins)\n",
    "\n",
    "# hist uses np.histogram under the hood to create 'n' and 'bins'.\n",
    "# np.histogram returns the bin edges, so there will be Nbin probability\n",
    "# density values (n), Nbin+1 bin edges (bins), and finally, Nbin patches.\n",
    "\n",
    "ax.set_xlabel('IQ')\n",
    "ax.set_ylabel('Probability')\n",
    "# The is Latex, a typsetting \"program\".\n",
    "ax.set_title(r'$\\mathrm{Histogram\\ of\\ IQ:}\\ \\mu=100,\\ \\sigma=15$')\n",
    "# Pay attention to how the x and y axis limits are set.\n",
    "ax.set_xlim(0, 200)\n",
    "ax.set_ylim(0, 0.03)\n",
    "ax.grid(True)\n",
    "\n",
    "plt.show()\n"
   ]
  },
  {
   "cell_type": "markdown",
   "metadata": {},
   "source": [
    "## End of wk 6-1"
   ]
  }
 ],
 "metadata": {
  "kernelspec": {
   "display_name": "Python 2",
   "language": "python",
   "name": "python2"
  },
  "language_info": {
   "codemirror_mode": {
    "name": "ipython",
    "version": 2
   },
   "file_extension": ".py",
   "mimetype": "text/x-python",
   "name": "python",
   "nbconvert_exporter": "python",
   "pygments_lexer": "ipython2",
   "version": "2.7.9"
  }
 },
 "nbformat": 4,
 "nbformat_minor": 0
}
