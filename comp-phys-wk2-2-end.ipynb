{
 "cells": [
  {
   "cell_type": "code",
   "execution_count": null,
   "metadata": {
    "collapsed": true
   },
   "outputs": [],
   "source": [
    "docstring: triple single quotes\n",
    "xrange is like range but creates elements one at a time. can save memory if list is a million elements\n",
    "enumerate"
   ]
  },
  {
   "cell_type": "code",
   "execution_count": 1,
   "metadata": {
    "collapsed": false
   },
   "outputs": [
    {
     "name": "stdout",
     "output_type": "stream",
     "text": [
      "0 5\n",
      "1 12\n",
      "2 19\n",
      "3 26\n"
     ]
    }
   ],
   "source": [
    "Cdegrees = [5,10,15,20]\n",
    "\n",
    "for i, c in enumerate(Cdegrees):\n",
    "    Cdegrees[i] = c+2*i\n",
    "    print i, Cdegrees[i]"
   ]
  },
  {
   "cell_type": "code",
   "execution_count": 4,
   "metadata": {
    "collapsed": false
   },
   "outputs": [
    {
     "name": "stdout",
     "output_type": "stream",
     "text": [
      "-5.0 23.0\n",
      "-4.5 23.9\n",
      "-4.0 24.8\n",
      "-3.5 25.7\n",
      "-3.0 26.6\n",
      "-2.5 27.5\n",
      "-2.0 28.4\n",
      "-1.5 29.3\n",
      "-1.0 30.2\n",
      "-0.5 31.1\n",
      "0.0 32.0\n",
      "0.5 32.9\n",
      "1.0 33.8\n",
      "1.5 34.7\n",
      "2.0 35.6\n",
      "2.5 36.5\n",
      "3.0 37.4\n",
      "3.5 38.3\n",
      "4.0 39.2\n",
      "4.5 40.1\n",
      "5.0 41.0\n"
     ]
    }
   ],
   "source": [
    "Cdegrees = []\n",
    "Fdegrees = []\n",
    "for i in range(-10,11,1):\n",
    "    Cdegrees.append(float(i)/2)\n",
    "    Fdegrees.append((float(i)/2)*(9.0/5) +32)\n",
    "    print Cdegrees[i+10], Fdegrees[i+10]"
   ]
  },
  {
   "cell_type": "code",
   "execution_count": 29,
   "metadata": {
    "collapsed": false
   },
   "outputs": [
    {
     "name": "stdout",
     "output_type": "stream",
     "text": [
      "False\n"
     ]
    }
   ],
   "source": [
    "n = 21\n",
    "x = [-5.+0.5*i for i in range(n)]\n",
    "y = [-5.+0.5*i for i in range(n)]\n",
    "print x is y"
   ]
  },
  {
   "cell_type": "code",
   "execution_count": 30,
   "metadata": {
    "collapsed": false
   },
   "outputs": [
    {
     "name": "stdout",
     "output_type": "stream",
     "text": [
      "[0.9589242746631385, 0.977530117665097, 0.7568024953079282, 0.35078322768961984, -0.1411200080598672, -0.5984721441039564, -0.9092974268256817, -0.9974949866040544, -0.8414709848078965, -0.479425538604203, 0.0, 0.479425538604203, 0.8414709848078965, 0.9974949866040544, 0.9092974268256817, 0.5984721441039564, 0.1411200080598672, -0.35078322768961984, -0.7568024953079282, -0.977530117665097, -0.9589242746631385]\n"
     ]
    }
   ],
   "source": [
    "from math import sin\n",
    "sinCdeg = [sin(c) for c in Cdegrees]\n",
    "print sinCdeg"
   ]
  },
  {
   "cell_type": "code",
   "execution_count": 31,
   "metadata": {
    "collapsed": false
   },
   "outputs": [
    {
     "data": {
      "text/plain": [
       "[(-5.0, 23.0),\n",
       " (-4.5, 23.9),\n",
       " (-4.0, 24.8),\n",
       " (-3.5, 25.7),\n",
       " (-3.0, 26.6),\n",
       " (-2.5, 27.5),\n",
       " (-2.0, 28.4),\n",
       " (-1.5, 29.3),\n",
       " (-1.0, 30.2),\n",
       " (-0.5, 31.1),\n",
       " (0.0, 32.0),\n",
       " (0.5, 32.9),\n",
       " (1.0, 33.8),\n",
       " (1.5, 34.7),\n",
       " (2.0, 35.6),\n",
       " (2.5, 36.5),\n",
       " (3.0, 37.4),\n",
       " (3.5, 38.3),\n",
       " (4.0, 39.2),\n",
       " (4.5, 40.1),\n",
       " (5.0, 41.0)]"
      ]
     },
     "execution_count": 31,
     "metadata": {},
     "output_type": "execute_result"
    }
   ],
   "source": [
    "zip(Cdegrees, Fdegrees)"
   ]
  },
  {
   "cell_type": "code",
   "execution_count": 32,
   "metadata": {
    "collapsed": false
   },
   "outputs": [
    {
     "data": {
      "text/plain": [
       "[(-5.0, 23.0, -5.0),\n",
       " (-4.5, 23.9, -4.5),\n",
       " (-4.0, 24.8, -4.0),\n",
       " (-3.5, 25.7, -3.5),\n",
       " (-3.0, 26.6, -3.0),\n",
       " (-2.5, 27.5, -2.5),\n",
       " (-2.0, 28.4, -2.0),\n",
       " (-1.5, 29.3, -1.5),\n",
       " (-1.0, 30.2, -1.0),\n",
       " (-0.5, 31.1, -0.5),\n",
       " (0.0, 32.0, 0.0),\n",
       " (0.5, 32.9, 0.5),\n",
       " (1.0, 33.8, 1.0),\n",
       " (1.5, 34.7, 1.5),\n",
       " (2.0, 35.6, 2.0),\n",
       " (2.5, 36.5, 2.5),\n",
       " (3.0, 37.4, 3.0),\n",
       " (3.5, 38.3, 3.5),\n",
       " (4.0, 39.2, 4.0),\n",
       " (4.5, 40.1, 4.5),\n",
       " (5.0, 41.0, 5.0)]"
      ]
     },
     "execution_count": 32,
     "metadata": {},
     "output_type": "execute_result"
    }
   ],
   "source": [
    "zip(Cdegrees, Fdegrees, Cdegrees)"
   ]
  },
  {
   "cell_type": "code",
   "execution_count": 5,
   "metadata": {
    "collapsed": false
   },
   "outputs": [
    {
     "name": "stdout",
     "output_type": "stream",
     "text": [
      " -5.0  23.0\n",
      " -4.5  23.9\n",
      " -4.0  24.8\n",
      " -3.5  25.7\n",
      " -3.0  26.6\n",
      " -2.5  27.5\n",
      " -2.0  28.4\n",
      " -1.5  29.3\n",
      " -1.0  30.2\n",
      " -0.5  31.1\n",
      "  0.0  32.0\n",
      "  0.5  32.9\n",
      "  1.0  33.8\n",
      "  1.5  34.7\n",
      "  2.0  35.6\n",
      "  2.5  36.5\n",
      "  3.0  37.4\n",
      "  3.5  38.3\n",
      "  4.0  39.2\n",
      "  4.5  40.1\n",
      "  5.0  41.0\n"
     ]
    }
   ],
   "source": [
    "for C, F in zip(Cdegrees, Fdegrees):\n",
    "    print '%5.1f %5.1f' % (C, F)"
   ]
  },
  {
   "cell_type": "code",
   "execution_count": 6,
   "metadata": {
    "collapsed": false
   },
   "outputs": [
    {
     "name": "stdout",
     "output_type": "stream",
     "text": [
      " -5.0,  23.0\n",
      " -4.5,  23.9\n",
      " -4.0,  24.8\n",
      " -3.5,  25.7\n",
      " -3.0,  26.6\n",
      " -2.5,  27.5\n",
      " -2.0,  28.4\n",
      " -1.5,  29.3\n",
      " -1.0,  30.2\n",
      " -0.5,  31.1\n",
      "  0.0,  32.0\n",
      "  0.5,  32.9\n",
      "  1.0,  33.8\n",
      "  1.5,  34.7\n",
      "  2.0,  35.6\n",
      "  2.5,  36.5\n",
      "  3.0,  37.4\n",
      "  3.5,  38.3\n",
      "  4.0,  39.2\n",
      "  4.5,  40.1\n",
      "  5.0,  41.0\n"
     ]
    }
   ],
   "source": [
    "for C, F in zip(Cdegrees, Fdegrees):\n",
    "    print \"{:5.1f}, {:5.1f}\".format(C, F)"
   ]
  },
  {
   "cell_type": "code",
   "execution_count": 8,
   "metadata": {
    "collapsed": false
   },
   "outputs": [
    {
     "name": "stdout",
     "output_type": "stream",
     "text": [
      "[[-5.0, 23.0], [-4.5, 23.9], [-4.0, 24.8], [-3.5, 25.7], [-3.0, 26.6], [-2.5, 27.5], [-2.0, 28.4], [-1.5, 29.3], [-1.0, 30.2], [-0.5, 31.1], [0.0, 32.0], [0.5, 32.9], [1.0, 33.8], [1.5, 34.7], [2.0, 35.6], [2.5, 36.5], [3.0, 37.4], [3.5, 38.3], [4.0, 39.2], [4.5, 40.1], [5.0, 41.0]]\n"
     ]
    }
   ],
   "source": [
    "table2 = []\n",
    "for C, F in zip(Cdegrees, Fdegrees):\n",
    "    table2.append([C,F])\n",
    "print table2"
   ]
  },
  {
   "cell_type": "code",
   "execution_count": 18,
   "metadata": {
    "collapsed": false
   },
   "outputs": [
    {
     "name": "stdout",
     "output_type": "stream",
     "text": [
      "[0.0, 32.0]\n"
     ]
    }
   ],
   "source": [
    "table2 = [[C,F] for C, F in zip(Cdegrees, Fdegrees)]\n",
    "print table2[10]"
   ]
  },
  {
   "cell_type": "code",
   "execution_count": 22,
   "metadata": {
    "collapsed": false
   },
   "outputs": [],
   "source": [
    "table1 = [Cdegrees, Fdegrees]"
   ]
  },
  {
   "cell_type": "code",
   "execution_count": 23,
   "metadata": {
    "collapsed": false
   },
   "outputs": [
    {
     "name": "stdout",
     "output_type": "stream",
     "text": [
      "[[-5.0, -4.5, -4.0, -3.5, -3.0, -2.5, -2.0, -1.5, -1.0, -0.5, 0.0, 0.5, 1.0, 1.5, 2.0, 2.5, 3.0, 3.5, 4.0, 4.5, 5.0], [23.0, 23.9, 24.8, 25.7, 26.6, 27.5, 28.4, 29.3, 30.2, 31.1, 32.0, 32.9, 33.8, 34.7, 35.6, 36.5, 37.4, 38.3, 39.2, 40.1, 41.0]]\n"
     ]
    }
   ],
   "source": [
    "print table1"
   ]
  }
 ],
 "metadata": {
  "kernelspec": {
   "display_name": "Python 2",
   "language": "python",
   "name": "python2"
  },
  "language_info": {
   "codemirror_mode": {
    "name": "ipython",
    "version": 2
   },
   "file_extension": ".py",
   "mimetype": "text/x-python",
   "name": "python",
   "nbconvert_exporter": "python",
   "pygments_lexer": "ipython2",
   "version": "2.7.6"
  }
 },
 "nbformat": 4,
 "nbformat_minor": 0
}
