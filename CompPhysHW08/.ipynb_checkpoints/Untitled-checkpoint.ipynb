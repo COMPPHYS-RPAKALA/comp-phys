{
 "cells": [
  {
   "cell_type": "code",
   "execution_count": 3,
   "metadata": {
    "collapsed": false
   },
   "outputs": [
    {
     "name": "stderr",
     "output_type": "stream",
     "text": [
      "usage: __main__.py [-h] [-let_idx LET_IDX] [-n_comp N_COMP]\n",
      "__main__.py: error: unrecognized arguments: -f /Users/Clarke/Library/Jupyter/runtime/kernel-67bdad36-c120-43a4-ab28-4ca479882781.json\n"
     ]
    },
    {
     "ename": "SystemExit",
     "evalue": "2",
     "output_type": "error",
     "traceback": [
      "An exception has occurred, use %tb to see the full traceback.\n",
      "\u001b[0;31mSystemExit\u001b[0m\u001b[0;31m:\u001b[0m 2\n"
     ]
    },
    {
     "name": "stderr",
     "output_type": "stream",
     "text": [
      "To exit: use 'exit', 'quit', or Ctrl-D.\n"
     ]
    }
   ],
   "source": [
    "from __future__ import print_function, division\n",
    "import argparse \n",
    "import matplotlib.pyplot as plt\n",
    "import matplotlib.image as mpimg\n",
    "import numpy as np\n",
    "from scipy import stats\n",
    "import seaborn as sns; sns.set()\n",
    "from sklearn.decomposition import PCA\n",
    "from scipy.interpolate import interp2d\n",
    "\n",
    "# parser = argparse.ArgumentParser()\n",
    "# parser.add_argument('-let_idx', type = int) \n",
    "# parser.add_argument('-n_comp', type = int)\n",
    "# args = parser.parse_args()\n",
    "let_idx = 5#args.let_idx\n",
    "n_comp = 10#args.n_comp\n",
    "\n",
    "def alphabet_pca(X, n_comp = n_comp):\n",
    "    pca = PCA(n_comp)  \n",
    "    Xproj = pca.fit_transform(X)\n",
    "    pca_comps = pca.components_\n",
    "    return pca, Xproj, pca_comps\n",
    "\n",
    "def make_let_im(let_file, dim = 16, y_lo = 70, y_hi = 220, x_lo = 10, \\\n",
    "               x_hi = 200, edge_pix = 148, plot_let = False):\n",
    "    init_im = mpimg.imread(let_file)\n",
    "    im = init_im[y_lo:y_hi,x_lo:x_hi]\n",
    "    im[:,edge_pix:] = 1\n",
    "    im_2d = im[:,:,0]\n",
    "    x = np.arange(im_2d.shape[1])\n",
    "    y = np.arange(im_2d.shape[0])\n",
    "    f2d = interp2d(x, y, im_2d)\n",
    "    x_new = np.linspace(0, im_2d.shape[1], 16)\n",
    "    y_new = np.linspace(0, im_2d.shape[0], 16)\n",
    "    let_im = f2d(x_new, y_new)\n",
    "    let_im_flat = np.concatenate(let_im)\n",
    "    if plot_let == True:\n",
    "        plt.figure()\n",
    "        plt.title('Interpolated Letter')\n",
    "        plt.grid('off')\n",
    "        plt.imshow(let_im, cmap = 'binary')\n",
    "        plt.show()\n",
    "    return let_im, let_im_flat\n",
    "\n",
    "def show_pca_im(Xproj, pca_comps, dim = 16, n_comp = n_comp, let_idx = let_idx):\n",
    "    dig_im = np.zeros((dim, dim))\n",
    "    coeffs = Xproj[let_idx]\n",
    "    f, axes = plt.subplots(1, n_comp, figsize = (10, 2), subplot_kw=dict(xticks=[], yticks=[]))\n",
    "    for i in range(n_comp):\n",
    "        axes[i].imshow(coeffs[i]*pca_comps[i].reshape((16, 16)), cmap='binary')\n",
    "    for i in range(n_comp):\n",
    "        dig_im += coeffs[i]*pca_comps[i].reshape((16, 16))\n",
    "        \n",
    "    fig, ax = plt.subplots(1, 1, figsize = (2, 2))\n",
    "    ax.imshow(dig_im, cmap='binary')\n",
    "    ax.grid(False)\n",
    "    ax.axis('off')\n",
    "    plt.show()\n",
    "  \n",
    "A, A_flat = make_let_im('letterA.png', edge_pix = 135)\n",
    "B, B_flat = make_let_im('letterB.png', edge_pix = 130)\n",
    "C, C_flat = make_let_im('letterC.png', edge_pix = 125)\n",
    "D, D_flat = make_let_im('letterD.png', edge_pix = 140)\n",
    "E, E_flat = make_let_im('letterE.png', edge_pix = 118)\n",
    "F, F_flat = make_let_im('letterF.png', edge_pix = 115)\n",
    "G, G_flat = make_let_im('letterG.png', edge_pix = 145)\n",
    "H, H_flat = make_let_im('letterH.png', edge_pix = 145)\n",
    "I, I_flat = make_let_im('letterI.png', edge_pix = 145)\n",
    "J, J_flat = make_let_im('letterJ.png', edge_pix = 85)\n",
    "K, K_flat = make_let_im('letterK.png', edge_pix = 125)\n",
    "L, L_flat = make_let_im('letterL.png', edge_pix = 105)\n",
    "M, M_flat = make_let_im('letterM.png', edge_pix = 180)\n",
    "N, N_flat = make_let_im('letterN.png', edge_pix = 140)\n",
    "O, O_flat = make_let_im('letterO.png', edge_pix = 155)\n",
    "P, P_flat = make_let_im('letterP.png', edge_pix = 125)\n",
    "Q, Q_flat = make_let_im('letterQ.png', edge_pix = 170)\n",
    "R, R_flat = make_let_im('letterR.png', edge_pix = 130)\n",
    "S, S_flat = make_let_im('letterS.png', edge_pix = 115)\n",
    "T, T_flat = make_let_im('letterT.png', edge_pix = 120)\n",
    "U, U_flat = make_let_im('letterU.png', edge_pix = 150)\n",
    "V, V_flat = make_let_im('letterV.png', edge_pix = 135)\n",
    "W, W_flat = make_let_im('letterW.png', edge_pix = 220)\n",
    "X, X_flat = make_let_im('letterX.png', edge_pix = 125)\n",
    "Y, Y_flat = make_let_im('letterY.png', edge_pix = 120)\n",
    "Z, Z_flat = make_let_im('letterZ.png', edge_pix = 115)\n",
    "\n",
    "X = np.array([A_flat,B_flat,C_flat,D_flat,E_flat,F_flat,G_flat,\\\n",
    "             H_flat,I_flat,J_flat,K_flat,L_flat,M_flat,N_flat,\\\n",
    "             O_flat,P_flat,Q_flat,R_flat,S_flat,T_flat,U_flat,V_flat,\\\n",
    "             W_flat,X_flat,Y_flat,Z_flat])\n",
    "\n",
    "alfbet_pca, XProj, pca_comps = alphabet_pca(X)\n",
    "\n",
    "let_coef = show_pca_im(XProj, pca_comps)"
   ]
  },
  {
   "cell_type": "code",
   "execution_count": null,
   "metadata": {
    "collapsed": true
   },
   "outputs": [],
   "source": []
  }
 ],
 "metadata": {
  "kernelspec": {
   "display_name": "Python 2",
   "language": "python",
   "name": "python2"
  },
  "language_info": {
   "codemirror_mode": {
    "name": "ipython",
    "version": 2
   },
   "file_extension": ".py",
   "mimetype": "text/x-python",
   "name": "python",
   "nbconvert_exporter": "python",
   "pygments_lexer": "ipython2",
   "version": "2.7.10"
  }
 },
 "nbformat": 4,
 "nbformat_minor": 0
}
