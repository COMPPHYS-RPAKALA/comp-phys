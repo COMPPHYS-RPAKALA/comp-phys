{
 "cells": [
  {
   "cell_type": "markdown",
   "metadata": {},
   "source": [
    "# Topics\n",
    "\n",
    "## 1. Random Numbers and Histogram\n",
    "## 2. Monte Carlo"
   ]
  },
  {
   "cell_type": "markdown",
   "metadata": {
    "collapsed": false
   },
   "source": [
    "## random numbers and histogram\n",
    "### Distributions\n",
    "### 1. Uniform\n",
    "### 2. Gaussian\n",
    "### 3. Poisson"
   ]
  },
  {
   "cell_type": "markdown",
   "metadata": {},
   "source": [
    "## Random Number with Different Distribution and Plotting the Histogram"
   ]
  },
  {
   "cell_type": "code",
   "execution_count": 23,
   "metadata": {
    "collapsed": false
   },
   "outputs": [
    {
     "name": "stdout",
     "output_type": "stream",
     "text": [
      "n (normalized height, or probability density): [  6.16534162e-08   3.08267081e-08   1.84960249e-07   4.52125052e-07\n",
      "   1.28444617e-06   3.06211967e-06   7.34703210e-06   1.74684679e-05\n",
      "   3.94068085e-05   8.33245920e-05   1.68416582e-04   3.23187208e-04\n",
      "   6.07162843e-04   1.06675823e-03   1.80957914e-03   2.90476988e-03\n",
      "   4.48727949e-03   6.57373385e-03   9.21021889e-03   1.23324712e-02\n",
      "   1.57297594e-02   1.91675950e-02   2.22868468e-02   2.47076374e-02\n",
      "   2.62222152e-02   2.64649550e-02   2.55969571e-02   2.35704298e-02\n",
      "   2.07398496e-02   1.74008444e-02   1.39199542e-02   1.06670891e-02\n",
      "   7.78426785e-03   5.40977900e-03   3.60380659e-03   2.28497836e-03\n",
      "   1.38212573e-03   7.96500484e-04   4.41541216e-04   2.33779479e-04\n",
      "   1.18518417e-04   5.60737820e-05   2.61307729e-05   1.14675354e-05\n",
      "   4.66510849e-06   1.94208261e-06   7.29565425e-07   2.77440373e-07\n",
      "   1.02755694e-07   6.16534162e-08] 50\n",
      "bins (locations of bin edges): [  18.12541413   21.36935441   24.61329468   27.85723496   31.10117524\n",
      "   34.34511551   37.58905579   40.83299607   44.07693634   47.32087662\n",
      "   50.5648169    53.80875717   57.05269745   60.29663773   63.540578\n",
      "   66.78451828   70.02845855   73.27239883   76.51633911   79.76027938\n",
      "   83.00421966   86.24815994   89.49210021   92.73604049   95.97998077\n",
      "   99.22392104  102.46786132  105.7118016   108.95574187  112.19968215\n",
      "  115.44362243  118.6875627   121.93150298  125.17544326  128.41938353\n",
      "  131.66332381  134.90726408  138.15120436  141.39514464  144.63908491\n",
      "  147.88302519  151.12696547  154.37090574  157.61484602  160.8587863\n",
      "  164.10272657  167.34666685  170.59060713  173.8345474   177.07848768\n",
      "  180.32242796] 51\n"
     ]
    },
    {
     "data": {
      "image/png": "[encoded data removed]",
      "text/plain": [
       "<matplotlib.figure.Figure at 0x115bc0e50>"
      ]
     },
     "metadata": {},
     "output_type": "display_data"
    }
   ],
   "source": [
    "%matplotlib inline\n",
    "'''Histogram Plot'''\n",
    "\n",
    "import numpy as np\n",
    "import matplotlib.pyplot as plt\n",
    "\n",
    "avg = 100.\n",
    "sig = 15.\n",
    "\n",
    "num_pts = 10000000*3\n",
    "\n",
    "x = np.random.randn(num_pts)*sig + avg\n",
    "fig = plt.figure()\n",
    "ax = fig.add_subplot(111)\n",
    "\n",
    "# the histogram of the data\n",
    "\n",
    "Nbins = 50\n",
    "# normed=1: the total area adds up to 1; # alpha: level of tranparency.\n",
    "n, bins, patches = ax.hist(x, Nbins, normed=1, facecolor='green', alpha=.5)\n",
    "print 'n (normalized height, or probability density):', n, len(n)\n",
    "print 'bins (locations of bin edges):', bins, len(bins)\n",
    "\n",
    "# hist uses np.histogram under the hood to create 'n' and 'bins'.\n",
    "# np.histogram returns the bin edges, so there will be Nbin probability\n",
    "# density values (n), Nbin+1 bin edges (bins), and finally, Nbin patches.\n",
    "\n",
    "ax.set_xlabel('IQ')\n",
    "ax.set_ylabel('Probability')\n",
    "# The is Latex, a typsetting \"program\".\n",
    "ax.set_title(r'$\\mathrm{Histogram\\ of\\ IQ:}\\ \\mu=100,\\ \\sigma=15$')\n",
    "# Pay attention to how the x and y axis limits are set.\n",
    "ax.set_xlim(0, 200)\n",
    "ax.set_ylim(0, 0.03)\n",
    "#ax.grid(True)\n",
    "\n",
    "plt.show()\n"
   ]
  },
  {
   "cell_type": "markdown",
   "metadata": {},
   "source": [
    "## What percentage of the population have IQ 1-sigma, 2-sigma, and 3-sigma above the mean?\n",
    "## Verify your number using the Gaussian random variables generated above.\n",
    "## What's the probability of finding someone with an IQ of 180?  How many such people are there in the US?"
   ]
  },
  {
   "cell_type": "code",
   "execution_count": 36,
   "metadata": {
    "collapsed": false
   },
   "outputs": [
    {
     "name": "stdout",
     "output_type": "stream",
     "text": [
      "0.000007%\n",
      "Thats 200 people, k\n"
     ]
    }
   ],
   "source": [
    "ind = x > 180\n",
    "iqCount = x[ind]\n",
    "iqCount *= 10\n",
    "percent = float(len(iqCount))/float(len(x))\n",
    "print '{:f}%'.format(percent*100)\n",
    "print 'Thats {:g} people'.format(num_pts*percent*100)"
   ]
  },
  {
   "cell_type": "code",
   "execution_count": 19,
   "metadata": {
    "collapsed": false
   },
   "outputs": [
    {
     "name": "stdout",
     "output_type": "stream",
     "text": [
      "(array([4, 5, 6, 7, 8, 9]),)\n",
      "[ 15.  18.  21.  24.  27.  30.]\n",
      "[False False False False  True  True  True  True  True  True]\n",
      "[ 15.  18.  21.  24.  27.  30.]\n"
     ]
    }
   ],
   "source": [
    "import numpy as np\n",
    "y = np.linspace(1, 10, 10)*3\n",
    "ind = np.where(y>12)\n",
    "newX = y[ind]\n",
    "\n",
    "print ind\n",
    "print newX\n",
    "\n",
    "ind2 = y>12\n",
    "newX2 = y[ind2]\n",
    "\n",
    "print ind2\n",
    "print newX2"
   ]
  },
  {
   "cell_type": "markdown",
   "metadata": {},
   "source": [
    "## Plot a histogram for 10000 number generated with np.random.rand()"
   ]
  },
  {
   "cell_type": "markdown",
   "metadata": {},
   "source": [
    "## Integration"
   ]
  },
  {
   "cell_type": "code",
   "execution_count": 52,
   "metadata": {
    "collapsed": false
   },
   "outputs": [
    {
     "data": {
      "image/png": "[encoded data removed]",
      "text/plain": [
       "<matplotlib.figure.Figure at 0x10adc6b50>"
      ]
     },
     "metadata": {},
     "output_type": "display_data"
    },
    {
     "name": "stdout",
     "output_type": "stream",
     "text": [
      "0.491\n"
     ]
    }
   ],
   "source": [
    "%matplotlib inline\n",
    "import numpy as np\n",
    "fx = x\n",
    "x,y = np.random.rand(1000), np.random.rand(1000)\n",
    "\n",
    "import matplotlib.pyplot as plt\n",
    "fig = plt.figure()\n",
    "ax = fig.add_subplot(111)\n",
    "ax.scatter(x, y, 5, 'red', alpha=0.5)\n",
    "\n",
    "plt.show()\n",
    "\n",
    "counter = 0\n",
    "\n",
    "ind = x > y\n",
    "largeX = x[ind]\n",
    "            \n",
    "print float(len(largeX))/(len(x))"
   ]
  },
  {
   "cell_type": "markdown",
   "metadata": {},
   "source": [
    "## Find the value of pi with MC"
   ]
  },
  {
   "cell_type": "markdown",
   "metadata": {
    "collapsed": false
   },
   "source": [
    "## End of wk8-2"
   ]
  }
 ],
 "metadata": {
  "kernelspec": {
   "display_name": "Python 2",
   "language": "python",
   "name": "python2"
  },
  "language_info": {
   "codemirror_mode": {
    "name": "ipython",
    "version": 2
   },
   "file_extension": ".py",
   "mimetype": "text/x-python",
   "name": "python",
   "nbconvert_exporter": "python",
   "pygments_lexer": "ipython2",
   "version": "2.7.9"
  }
 },
 "nbformat": 4,
 "nbformat_minor": 0
}
